{
 "cells": [
  {
   "cell_type": "markdown",
   "id": "ccbbbe50",
   "metadata": {},
   "source": [
    "## Content\n",
    "\n",
    "* [Part 1 : Understanding the Dataset](#P1)\n",
    "* [Part 2 : Combining the csv files and the dataframes](#P2)\n",
    "* [Part 3 : Data cleaning](#P3)\n",
    "* [Part 4 : Business Questions](#P4) \n",
    "\n",
    "    * [Q1 : What was the best month for sales and how much was earned in that month?](#Q1)\n",
    "    * [Q2 : Which city had the highest amount of sales?](#Q2)\n",
    "    * [Q3 : What time should we display advertisements to maximize likelihood of customer's buying product?](#Q3)\n",
    "    * [Q4 : Which products are most often sold together?](#Q4)\n",
    "    * [Q5 : Which product was sold the most?](#Q5)\n",
    "\n"
   ]
  },
  {
   "cell_type": "markdown",
   "id": "62151b6a",
   "metadata": {},
   "source": [
    "### Part 1 : Understanding the Dataset\n",
    "<a id=\"P1\"></a>"
   ]
  },
  {
   "cell_type": "markdown",
   "id": "0105efb1",
   "metadata": {},
   "source": [
    "Annual sales of the electronics store has been broken down to months and we have twelve separate csv files in hand.\n",
    "\n",
    "The data (in total) contains hundreds of thousands of electronics store purchases broken down by month, product type, address, etc.\n",
    "\n",
    "Each individual file has the self-explanatory column names as below and the data type of each column has been mentioned in the table.\n",
    "\n",
    "\n",
    "|Column Name|dtype|\n",
    "|----------|----------|\n",
    "|Order ID|object|\n",
    "|Product|object|\n",
    "|Quantity Ordered|object|\n",
    "|Price Each|object|\n",
    "|Order Date|object|\n",
    "|Purchase Address|object|\n",
    "\n",
    "\n",
    "Although some columns clearly represent numerical data (such as quantity or price), they have been stored as object data types. This indicates that we will need to convert some of the data types in the later stages of the study."
   ]
  },
  {
   "cell_type": "markdown",
   "id": "68f67ea7",
   "metadata": {},
   "source": [
    "### Part 2 : Combining the csv files and the dataframes\n",
    "<a id=\"P2\"></a>"
   ]
  },
  {
   "cell_type": "markdown",
   "id": "e73244e6",
   "metadata": {},
   "source": [
    "The data is available in twelve separate files (one single file per each month) and files are stored in `Sales Data` folder.\n",
    "\n",
    "Before loading all those files and converting them to pandas dataframes, we should grab the file names from the relevant folder:"
   ]
  },
  {
   "cell_type": "code",
   "execution_count": 1,
   "id": "b592c651",
   "metadata": {},
   "outputs": [],
   "source": [
    "import pandas as pd"
   ]
  },
  {
   "cell_type": "code",
   "execution_count": 2,
   "id": "e82eea28",
   "metadata": {},
   "outputs": [],
   "source": [
    "import os"
   ]
  },
  {
   "cell_type": "code",
   "execution_count": 3,
   "id": "ed8313e4",
   "metadata": {},
   "outputs": [],
   "source": [
    "for folder,subfolder,file in os.walk(\"./Sales Data/\"):\n",
    "    month_list=file"
   ]
  },
  {
   "cell_type": "code",
   "execution_count": 4,
   "id": "a20ebc17",
   "metadata": {},
   "outputs": [
    {
     "data": {
      "text/plain": [
       "['Sales_April_2019.csv',\n",
       " 'Sales_August_2019.csv',\n",
       " 'Sales_December_2019.csv',\n",
       " 'Sales_February_2019.csv',\n",
       " 'Sales_January_2019.csv',\n",
       " 'Sales_July_2019.csv',\n",
       " 'Sales_June_2019.csv',\n",
       " 'Sales_March_2019.csv',\n",
       " 'Sales_May_2019.csv',\n",
       " 'Sales_November_2019.csv',\n",
       " 'Sales_October_2019.csv',\n",
       " 'Sales_September_2019.csv']"
      ]
     },
     "execution_count": 4,
     "metadata": {},
     "output_type": "execute_result"
    }
   ],
   "source": [
    "month_list"
   ]
  },
  {
   "cell_type": "markdown",
   "id": "d2896cf4",
   "metadata": {},
   "source": [
    "We now have the list of the file names, and these files (representing twelve months sales data) should be concatenated in one single file showing the cumulated annual sales.\n",
    "\n",
    "For this purpose, `concat` method will be used in a for loop (merge method will not be preferred as the column names in the files are all the same and combining will be based on axis zero). \n",
    "\n",
    "In order not to lose the track of the info which data is coming from which file (or month - as each individual file represent a different month of the year), a new column named `Sales Month` will be created in the same process."
   ]
  },
  {
   "cell_type": "code",
   "execution_count": 5,
   "id": "fee0ffc1",
   "metadata": {},
   "outputs": [],
   "source": [
    "df_year=pd.DataFrame()\n",
    "\n",
    "for month in month_list:\n",
    "    df_month = pd.read_csv(\"./Sales Data/\"+month)\n",
    "    df_month[\"Sales Month\"]=month.split(\"_\")[1] #creates a new column Sales Month\n",
    "    df_year=pd.concat([df_year,df_month])"
   ]
  },
  {
   "cell_type": "code",
   "execution_count": 6,
   "id": "b3ad73dd",
   "metadata": {
    "scrolled": false
   },
   "outputs": [
    {
     "data": {
      "text/html": [
       "<div>\n",
       "<style scoped>\n",
       "    .dataframe tbody tr th:only-of-type {\n",
       "        vertical-align: middle;\n",
       "    }\n",
       "\n",
       "    .dataframe tbody tr th {\n",
       "        vertical-align: top;\n",
       "    }\n",
       "\n",
       "    .dataframe thead th {\n",
       "        text-align: right;\n",
       "    }\n",
       "</style>\n",
       "<table border=\"1\" class=\"dataframe\">\n",
       "  <thead>\n",
       "    <tr style=\"text-align: right;\">\n",
       "      <th></th>\n",
       "      <th>Order ID</th>\n",
       "      <th>Product</th>\n",
       "      <th>Quantity Ordered</th>\n",
       "      <th>Price Each</th>\n",
       "      <th>Order Date</th>\n",
       "      <th>Purchase Address</th>\n",
       "      <th>Sales Month</th>\n",
       "    </tr>\n",
       "  </thead>\n",
       "  <tbody>\n",
       "    <tr>\n",
       "      <th>0</th>\n",
       "      <td>176558</td>\n",
       "      <td>USB-C Charging Cable</td>\n",
       "      <td>2</td>\n",
       "      <td>11.95</td>\n",
       "      <td>04/19/19 08:46</td>\n",
       "      <td>917 1st St, Dallas, TX 75001</td>\n",
       "      <td>April</td>\n",
       "    </tr>\n",
       "    <tr>\n",
       "      <th>1</th>\n",
       "      <td>NaN</td>\n",
       "      <td>NaN</td>\n",
       "      <td>NaN</td>\n",
       "      <td>NaN</td>\n",
       "      <td>NaN</td>\n",
       "      <td>NaN</td>\n",
       "      <td>April</td>\n",
       "    </tr>\n",
       "    <tr>\n",
       "      <th>2</th>\n",
       "      <td>176559</td>\n",
       "      <td>Bose SoundSport Headphones</td>\n",
       "      <td>1</td>\n",
       "      <td>99.99</td>\n",
       "      <td>04/07/19 22:30</td>\n",
       "      <td>682 Chestnut St, Boston, MA 02215</td>\n",
       "      <td>April</td>\n",
       "    </tr>\n",
       "    <tr>\n",
       "      <th>3</th>\n",
       "      <td>176560</td>\n",
       "      <td>Google Phone</td>\n",
       "      <td>1</td>\n",
       "      <td>600</td>\n",
       "      <td>04/12/19 14:38</td>\n",
       "      <td>669 Spruce St, Los Angeles, CA 90001</td>\n",
       "      <td>April</td>\n",
       "    </tr>\n",
       "    <tr>\n",
       "      <th>4</th>\n",
       "      <td>176560</td>\n",
       "      <td>Wired Headphones</td>\n",
       "      <td>1</td>\n",
       "      <td>11.99</td>\n",
       "      <td>04/12/19 14:38</td>\n",
       "      <td>669 Spruce St, Los Angeles, CA 90001</td>\n",
       "      <td>April</td>\n",
       "    </tr>\n",
       "  </tbody>\n",
       "</table>\n",
       "</div>"
      ],
      "text/plain": [
       "  Order ID                     Product Quantity Ordered Price Each  \\\n",
       "0   176558        USB-C Charging Cable                2      11.95   \n",
       "1      NaN                         NaN              NaN        NaN   \n",
       "2   176559  Bose SoundSport Headphones                1      99.99   \n",
       "3   176560                Google Phone                1        600   \n",
       "4   176560            Wired Headphones                1      11.99   \n",
       "\n",
       "       Order Date                      Purchase Address Sales Month  \n",
       "0  04/19/19 08:46          917 1st St, Dallas, TX 75001       April  \n",
       "1             NaN                                   NaN       April  \n",
       "2  04/07/19 22:30     682 Chestnut St, Boston, MA 02215       April  \n",
       "3  04/12/19 14:38  669 Spruce St, Los Angeles, CA 90001       April  \n",
       "4  04/12/19 14:38  669 Spruce St, Los Angeles, CA 90001       April  "
      ]
     },
     "execution_count": 6,
     "metadata": {},
     "output_type": "execute_result"
    }
   ],
   "source": [
    "df_year.head()"
   ]
  },
  {
   "cell_type": "markdown",
   "id": "3d9153f3",
   "metadata": {},
   "source": [
    "The combined data will be saved as a separate csv file in case it's needed."
   ]
  },
  {
   "cell_type": "code",
   "execution_count": 7,
   "id": "89980440",
   "metadata": {},
   "outputs": [],
   "source": [
    "df_year.to_csv(\"combined_sales.csv\", index=False)"
   ]
  },
  {
   "cell_type": "code",
   "execution_count": 8,
   "id": "ce8175d5",
   "metadata": {},
   "outputs": [
    {
     "name": "stdout",
     "output_type": "stream",
     "text": [
      "<class 'pandas.core.frame.DataFrame'>\n",
      "Int64Index: 186850 entries, 0 to 11685\n",
      "Data columns (total 7 columns):\n",
      " #   Column            Non-Null Count   Dtype \n",
      "---  ------            --------------   ----- \n",
      " 0   Order ID          186305 non-null  object\n",
      " 1   Product           186305 non-null  object\n",
      " 2   Quantity Ordered  186305 non-null  object\n",
      " 3   Price Each        186305 non-null  object\n",
      " 4   Order Date        186305 non-null  object\n",
      " 5   Purchase Address  186305 non-null  object\n",
      " 6   Sales Month       186850 non-null  object\n",
      "dtypes: object(7)\n",
      "memory usage: 11.4+ MB\n"
     ]
    }
   ],
   "source": [
    "df_year.info()"
   ]
  },
  {
   "cell_type": "markdown",
   "id": "6662e81a",
   "metadata": {},
   "source": [
    "### Part 3 : Data cleaning\n",
    "<a id=\"P3\"></a>"
   ]
  },
  {
   "cell_type": "markdown",
   "id": "e903fd3c",
   "metadata": {},
   "source": [
    "Before analyzing the combined dataframe, we should check for NaN or null values within and decide how to handle them.\n",
    "\n",
    "To see how NaN values look like and where they are located in the dataframe;"
   ]
  },
  {
   "cell_type": "code",
   "execution_count": 9,
   "id": "a921b344",
   "metadata": {},
   "outputs": [],
   "source": [
    "#creates a dataframe consisting of rows which have at least one NaN value;\n",
    "df_nun = df_year[df_year.isna().any(axis=1)]"
   ]
  },
  {
   "cell_type": "code",
   "execution_count": 10,
   "id": "e24374dd",
   "metadata": {},
   "outputs": [
    {
     "data": {
      "text/html": [
       "<div>\n",
       "<style scoped>\n",
       "    .dataframe tbody tr th:only-of-type {\n",
       "        vertical-align: middle;\n",
       "    }\n",
       "\n",
       "    .dataframe tbody tr th {\n",
       "        vertical-align: top;\n",
       "    }\n",
       "\n",
       "    .dataframe thead th {\n",
       "        text-align: right;\n",
       "    }\n",
       "</style>\n",
       "<table border=\"1\" class=\"dataframe\">\n",
       "  <thead>\n",
       "    <tr style=\"text-align: right;\">\n",
       "      <th></th>\n",
       "      <th>Order ID</th>\n",
       "      <th>Product</th>\n",
       "      <th>Quantity Ordered</th>\n",
       "      <th>Price Each</th>\n",
       "      <th>Order Date</th>\n",
       "      <th>Purchase Address</th>\n",
       "      <th>Sales Month</th>\n",
       "    </tr>\n",
       "  </thead>\n",
       "  <tbody>\n",
       "    <tr>\n",
       "      <th>1</th>\n",
       "      <td>NaN</td>\n",
       "      <td>NaN</td>\n",
       "      <td>NaN</td>\n",
       "      <td>NaN</td>\n",
       "      <td>NaN</td>\n",
       "      <td>NaN</td>\n",
       "      <td>April</td>\n",
       "    </tr>\n",
       "    <tr>\n",
       "      <th>356</th>\n",
       "      <td>NaN</td>\n",
       "      <td>NaN</td>\n",
       "      <td>NaN</td>\n",
       "      <td>NaN</td>\n",
       "      <td>NaN</td>\n",
       "      <td>NaN</td>\n",
       "      <td>April</td>\n",
       "    </tr>\n",
       "    <tr>\n",
       "      <th>735</th>\n",
       "      <td>NaN</td>\n",
       "      <td>NaN</td>\n",
       "      <td>NaN</td>\n",
       "      <td>NaN</td>\n",
       "      <td>NaN</td>\n",
       "      <td>NaN</td>\n",
       "      <td>April</td>\n",
       "    </tr>\n",
       "    <tr>\n",
       "      <th>1433</th>\n",
       "      <td>NaN</td>\n",
       "      <td>NaN</td>\n",
       "      <td>NaN</td>\n",
       "      <td>NaN</td>\n",
       "      <td>NaN</td>\n",
       "      <td>NaN</td>\n",
       "      <td>April</td>\n",
       "    </tr>\n",
       "    <tr>\n",
       "      <th>1553</th>\n",
       "      <td>NaN</td>\n",
       "      <td>NaN</td>\n",
       "      <td>NaN</td>\n",
       "      <td>NaN</td>\n",
       "      <td>NaN</td>\n",
       "      <td>NaN</td>\n",
       "      <td>April</td>\n",
       "    </tr>\n",
       "    <tr>\n",
       "      <th>...</th>\n",
       "      <td>...</td>\n",
       "      <td>...</td>\n",
       "      <td>...</td>\n",
       "      <td>...</td>\n",
       "      <td>...</td>\n",
       "      <td>...</td>\n",
       "      <td>...</td>\n",
       "    </tr>\n",
       "    <tr>\n",
       "      <th>10012</th>\n",
       "      <td>NaN</td>\n",
       "      <td>NaN</td>\n",
       "      <td>NaN</td>\n",
       "      <td>NaN</td>\n",
       "      <td>NaN</td>\n",
       "      <td>NaN</td>\n",
       "      <td>September</td>\n",
       "    </tr>\n",
       "    <tr>\n",
       "      <th>10274</th>\n",
       "      <td>NaN</td>\n",
       "      <td>NaN</td>\n",
       "      <td>NaN</td>\n",
       "      <td>NaN</td>\n",
       "      <td>NaN</td>\n",
       "      <td>NaN</td>\n",
       "      <td>September</td>\n",
       "    </tr>\n",
       "    <tr>\n",
       "      <th>10878</th>\n",
       "      <td>NaN</td>\n",
       "      <td>NaN</td>\n",
       "      <td>NaN</td>\n",
       "      <td>NaN</td>\n",
       "      <td>NaN</td>\n",
       "      <td>NaN</td>\n",
       "      <td>September</td>\n",
       "    </tr>\n",
       "    <tr>\n",
       "      <th>11384</th>\n",
       "      <td>NaN</td>\n",
       "      <td>NaN</td>\n",
       "      <td>NaN</td>\n",
       "      <td>NaN</td>\n",
       "      <td>NaN</td>\n",
       "      <td>NaN</td>\n",
       "      <td>September</td>\n",
       "    </tr>\n",
       "    <tr>\n",
       "      <th>11662</th>\n",
       "      <td>NaN</td>\n",
       "      <td>NaN</td>\n",
       "      <td>NaN</td>\n",
       "      <td>NaN</td>\n",
       "      <td>NaN</td>\n",
       "      <td>NaN</td>\n",
       "      <td>September</td>\n",
       "    </tr>\n",
       "  </tbody>\n",
       "</table>\n",
       "<p>545 rows × 7 columns</p>\n",
       "</div>"
      ],
      "text/plain": [
       "      Order ID Product Quantity Ordered Price Each Order Date  \\\n",
       "1          NaN     NaN              NaN        NaN        NaN   \n",
       "356        NaN     NaN              NaN        NaN        NaN   \n",
       "735        NaN     NaN              NaN        NaN        NaN   \n",
       "1433       NaN     NaN              NaN        NaN        NaN   \n",
       "1553       NaN     NaN              NaN        NaN        NaN   \n",
       "...        ...     ...              ...        ...        ...   \n",
       "10012      NaN     NaN              NaN        NaN        NaN   \n",
       "10274      NaN     NaN              NaN        NaN        NaN   \n",
       "10878      NaN     NaN              NaN        NaN        NaN   \n",
       "11384      NaN     NaN              NaN        NaN        NaN   \n",
       "11662      NaN     NaN              NaN        NaN        NaN   \n",
       "\n",
       "      Purchase Address Sales Month  \n",
       "1                  NaN       April  \n",
       "356                NaN       April  \n",
       "735                NaN       April  \n",
       "1433               NaN       April  \n",
       "1553               NaN       April  \n",
       "...                ...         ...  \n",
       "10012              NaN   September  \n",
       "10274              NaN   September  \n",
       "10878              NaN   September  \n",
       "11384              NaN   September  \n",
       "11662              NaN   September  \n",
       "\n",
       "[545 rows x 7 columns]"
      ]
     },
     "execution_count": 10,
     "metadata": {},
     "output_type": "execute_result"
    }
   ],
   "source": [
    "df_nun"
   ]
  },
  {
   "cell_type": "markdown",
   "id": "5f548150",
   "metadata": {},
   "source": [
    "It seems that there are some rows consisting of only NaN values (except the Sales Month column which was the additional column). It makes sense to drop all of those NaN rows as they do not provide any valuable info.\n",
    "\n",
    "But, how can we be sure all of those 545 rows are full of NaN values? We can not check those rows one by one."
   ]
  },
  {
   "cell_type": "code",
   "execution_count": 11,
   "id": "f29e66be",
   "metadata": {},
   "outputs": [
    {
     "data": {
      "text/plain": [
       "Order ID             True\n",
       "Product              True\n",
       "Quantity Ordered     True\n",
       "Price Each           True\n",
       "Order Date           True\n",
       "Purchase Address     True\n",
       "Sales Month         False\n",
       "dtype: bool"
      ]
     },
     "execution_count": 11,
     "metadata": {},
     "output_type": "execute_result"
    }
   ],
   "source": [
    "df_nun.isna().all(axis=0)"
   ]
  },
  {
   "cell_type": "markdown",
   "id": "759458ae",
   "metadata": {},
   "source": [
    "As can be seen from the result, **all** of the original six columns are consisting of NaN values. So, those can now be dropped without any hesitation."
   ]
  },
  {
   "cell_type": "code",
   "execution_count": 12,
   "id": "898d4965",
   "metadata": {
    "scrolled": true
   },
   "outputs": [],
   "source": [
    "df_year.dropna(axis=0,inplace=True)"
   ]
  },
  {
   "cell_type": "markdown",
   "id": "a347213b",
   "metadata": {},
   "source": [
    "### Part 4 : Business Questions\n",
    "<a id=\"P4\"></a>\n"
   ]
  },
  {
   "cell_type": "markdown",
   "id": "e80421e3",
   "metadata": {},
   "source": [
    "### Question 1 : What was the best month for sales and how much was earned in that month?\n",
    "<a id=\"Q1\"></a>"
   ]
  },
  {
   "cell_type": "markdown",
   "id": "5c6d6336",
   "metadata": {},
   "source": [
    "There are two ways to answer this.\n",
    "\n",
    "First and easy way would be to use the `Sales Month` column which has been already created while concatenating the files.\n",
    "\n",
    "Second way would be to use `Order Date` column - by the assumption that the sales has been realised during the month in which product was ordered. \n",
    "In order to do that, we would either need to convert `Order Date` column data type from object to datetime - or to use some sort of parsing to grab the month info from the string (such as from 04/12/19 09.27).\n",
    "\n",
    "Whats more, in each cases, we would need to convert the data types of `Quantity Ordered` and `Price Each` to numerical ones and then create a new column (will be named as `Total Sales`) by multiplication of those two columns."
   ]
  },
  {
   "cell_type": "markdown",
   "id": "1c8fe245",
   "metadata": {},
   "source": [
    "> First, we will try to reach the answer via `Sales Month` column;"
   ]
  },
  {
   "cell_type": "markdown",
   "id": "e478a82d",
   "metadata": {},
   "source": [
    "To convert the objects to integers and floats within `Quantity Ordered` and `Price Each` columns; we apply:\n",
    "\n",
    "    df_year[\"Quantity Ordered\"] = df_year[\"Quantity Ordered\"].astype(\"int32\")\n",
    "\n",
    "    df_year[\"Price Each\"] = df_year[\"Price Each\"].astype(\"float\")\n",
    "\n",
    "These raise the error as below;\n",
    "\n",
    "    ValueError: invalid literal for int() with base 10: 'Quantity Ordered'\n",
    "\n",
    "\n",
    "This error indicates that there is a string 'Quantity Ordered' within the dataframe and it should be the cause of the error. This string most probably can be found in Quantity Ordered column:"
   ]
  },
  {
   "cell_type": "code",
   "execution_count": 13,
   "id": "e9592a0c",
   "metadata": {},
   "outputs": [
    {
     "data": {
      "text/html": [
       "<div>\n",
       "<style scoped>\n",
       "    .dataframe tbody tr th:only-of-type {\n",
       "        vertical-align: middle;\n",
       "    }\n",
       "\n",
       "    .dataframe tbody tr th {\n",
       "        vertical-align: top;\n",
       "    }\n",
       "\n",
       "    .dataframe thead th {\n",
       "        text-align: right;\n",
       "    }\n",
       "</style>\n",
       "<table border=\"1\" class=\"dataframe\">\n",
       "  <thead>\n",
       "    <tr style=\"text-align: right;\">\n",
       "      <th></th>\n",
       "      <th>Order ID</th>\n",
       "      <th>Product</th>\n",
       "      <th>Quantity Ordered</th>\n",
       "      <th>Price Each</th>\n",
       "      <th>Order Date</th>\n",
       "      <th>Purchase Address</th>\n",
       "      <th>Sales Month</th>\n",
       "    </tr>\n",
       "  </thead>\n",
       "  <tbody>\n",
       "    <tr>\n",
       "      <th>519</th>\n",
       "      <td>Order ID</td>\n",
       "      <td>Product</td>\n",
       "      <td>Quantity Ordered</td>\n",
       "      <td>Price Each</td>\n",
       "      <td>Order Date</td>\n",
       "      <td>Purchase Address</td>\n",
       "      <td>April</td>\n",
       "    </tr>\n",
       "    <tr>\n",
       "      <th>1149</th>\n",
       "      <td>Order ID</td>\n",
       "      <td>Product</td>\n",
       "      <td>Quantity Ordered</td>\n",
       "      <td>Price Each</td>\n",
       "      <td>Order Date</td>\n",
       "      <td>Purchase Address</td>\n",
       "      <td>April</td>\n",
       "    </tr>\n",
       "    <tr>\n",
       "      <th>1155</th>\n",
       "      <td>Order ID</td>\n",
       "      <td>Product</td>\n",
       "      <td>Quantity Ordered</td>\n",
       "      <td>Price Each</td>\n",
       "      <td>Order Date</td>\n",
       "      <td>Purchase Address</td>\n",
       "      <td>April</td>\n",
       "    </tr>\n",
       "    <tr>\n",
       "      <th>2878</th>\n",
       "      <td>Order ID</td>\n",
       "      <td>Product</td>\n",
       "      <td>Quantity Ordered</td>\n",
       "      <td>Price Each</td>\n",
       "      <td>Order Date</td>\n",
       "      <td>Purchase Address</td>\n",
       "      <td>April</td>\n",
       "    </tr>\n",
       "    <tr>\n",
       "      <th>2893</th>\n",
       "      <td>Order ID</td>\n",
       "      <td>Product</td>\n",
       "      <td>Quantity Ordered</td>\n",
       "      <td>Price Each</td>\n",
       "      <td>Order Date</td>\n",
       "      <td>Purchase Address</td>\n",
       "      <td>April</td>\n",
       "    </tr>\n",
       "    <tr>\n",
       "      <th>...</th>\n",
       "      <td>...</td>\n",
       "      <td>...</td>\n",
       "      <td>...</td>\n",
       "      <td>...</td>\n",
       "      <td>...</td>\n",
       "      <td>...</td>\n",
       "      <td>...</td>\n",
       "    </tr>\n",
       "    <tr>\n",
       "      <th>10000</th>\n",
       "      <td>Order ID</td>\n",
       "      <td>Product</td>\n",
       "      <td>Quantity Ordered</td>\n",
       "      <td>Price Each</td>\n",
       "      <td>Order Date</td>\n",
       "      <td>Purchase Address</td>\n",
       "      <td>September</td>\n",
       "    </tr>\n",
       "    <tr>\n",
       "      <th>10387</th>\n",
       "      <td>Order ID</td>\n",
       "      <td>Product</td>\n",
       "      <td>Quantity Ordered</td>\n",
       "      <td>Price Each</td>\n",
       "      <td>Order Date</td>\n",
       "      <td>Purchase Address</td>\n",
       "      <td>September</td>\n",
       "    </tr>\n",
       "    <tr>\n",
       "      <th>11399</th>\n",
       "      <td>Order ID</td>\n",
       "      <td>Product</td>\n",
       "      <td>Quantity Ordered</td>\n",
       "      <td>Price Each</td>\n",
       "      <td>Order Date</td>\n",
       "      <td>Purchase Address</td>\n",
       "      <td>September</td>\n",
       "    </tr>\n",
       "    <tr>\n",
       "      <th>11468</th>\n",
       "      <td>Order ID</td>\n",
       "      <td>Product</td>\n",
       "      <td>Quantity Ordered</td>\n",
       "      <td>Price Each</td>\n",
       "      <td>Order Date</td>\n",
       "      <td>Purchase Address</td>\n",
       "      <td>September</td>\n",
       "    </tr>\n",
       "    <tr>\n",
       "      <th>11574</th>\n",
       "      <td>Order ID</td>\n",
       "      <td>Product</td>\n",
       "      <td>Quantity Ordered</td>\n",
       "      <td>Price Each</td>\n",
       "      <td>Order Date</td>\n",
       "      <td>Purchase Address</td>\n",
       "      <td>September</td>\n",
       "    </tr>\n",
       "  </tbody>\n",
       "</table>\n",
       "<p>355 rows × 7 columns</p>\n",
       "</div>"
      ],
      "text/plain": [
       "       Order ID  Product  Quantity Ordered  Price Each  Order Date  \\\n",
       "519    Order ID  Product  Quantity Ordered  Price Each  Order Date   \n",
       "1149   Order ID  Product  Quantity Ordered  Price Each  Order Date   \n",
       "1155   Order ID  Product  Quantity Ordered  Price Each  Order Date   \n",
       "2878   Order ID  Product  Quantity Ordered  Price Each  Order Date   \n",
       "2893   Order ID  Product  Quantity Ordered  Price Each  Order Date   \n",
       "...         ...      ...               ...         ...         ...   \n",
       "10000  Order ID  Product  Quantity Ordered  Price Each  Order Date   \n",
       "10387  Order ID  Product  Quantity Ordered  Price Each  Order Date   \n",
       "11399  Order ID  Product  Quantity Ordered  Price Each  Order Date   \n",
       "11468  Order ID  Product  Quantity Ordered  Price Each  Order Date   \n",
       "11574  Order ID  Product  Quantity Ordered  Price Each  Order Date   \n",
       "\n",
       "       Purchase Address Sales Month  \n",
       "519    Purchase Address       April  \n",
       "1149   Purchase Address       April  \n",
       "1155   Purchase Address       April  \n",
       "2878   Purchase Address       April  \n",
       "2893   Purchase Address       April  \n",
       "...                 ...         ...  \n",
       "10000  Purchase Address   September  \n",
       "10387  Purchase Address   September  \n",
       "11399  Purchase Address   September  \n",
       "11468  Purchase Address   September  \n",
       "11574  Purchase Address   September  \n",
       "\n",
       "[355 rows x 7 columns]"
      ]
     },
     "execution_count": 13,
     "metadata": {},
     "output_type": "execute_result"
    }
   ],
   "source": [
    "df_year[df_year[\"Quantity Ordered\"]==\"Quantity Ordered\"]"
   ]
  },
  {
   "cell_type": "markdown",
   "id": "e8b7c037",
   "metadata": {},
   "source": [
    "It seems that there is kind of a \"bug\" within the dataframe (most probably occurred while being downloaded to excel files). \n",
    "\n",
    "So we should remove those rows as well:"
   ]
  },
  {
   "cell_type": "code",
   "execution_count": 14,
   "id": "c3f7720d",
   "metadata": {},
   "outputs": [],
   "source": [
    "df_year=df_year.loc[((df_year!=\"Quantity Ordered\").all(axis=1)),:]"
   ]
  },
  {
   "cell_type": "markdown",
   "id": "4d87a2b9",
   "metadata": {},
   "source": [
    "---\n",
    "We now have a fully clean dataframe. \n",
    "\n",
    "Lets try to convert the objects to numeric values once again:"
   ]
  },
  {
   "cell_type": "code",
   "execution_count": 15,
   "id": "0a98e255",
   "metadata": {},
   "outputs": [],
   "source": [
    "df_year[\"Quantity Ordered\"] = pd.to_numeric(df_year[\"Quantity Ordered\"])\n",
    "df_year[\"Price Each\"] = pd.to_numeric(df_year[\"Price Each\"])"
   ]
  },
  {
   "cell_type": "code",
   "execution_count": 16,
   "id": "e75f6e8b",
   "metadata": {},
   "outputs": [],
   "source": [
    "#the message above is negligible as it is a default warning when a copy of a slice from a dataframe is used."
   ]
  },
  {
   "cell_type": "markdown",
   "id": "ba78f98d",
   "metadata": {},
   "source": [
    "---\n",
    "To be able to answer the Question 1, we have to create a `Total Sales` column which is simply the multiplication of `Quantity Ordered` and `Price Each` columns: "
   ]
  },
  {
   "cell_type": "code",
   "execution_count": 17,
   "id": "74cc6a56",
   "metadata": {},
   "outputs": [],
   "source": [
    "df_year[\"Total Sales\"]=df_year[\"Quantity Ordered\"]*df_year[\"Price Each\"]"
   ]
  },
  {
   "cell_type": "markdown",
   "id": "860c0447",
   "metadata": {},
   "source": [
    "To see the best month for sales:"
   ]
  },
  {
   "cell_type": "code",
   "execution_count": 18,
   "id": "32027283",
   "metadata": {},
   "outputs": [
    {
     "data": {
      "text/plain": [
       "Sales Month\n",
       "December     4619297.12\n",
       "October      3736884.05\n",
       "April        3396059.11\n",
       "November     3198909.23\n",
       "May          3144584.80\n",
       "March        2809063.30\n",
       "July         2646899.69\n",
       "June         2578293.30\n",
       "August       2244412.31\n",
       "February     2203481.24\n",
       "September    2098816.70\n",
       "January      1815335.12\n",
       "Name: Total Sales, dtype: float64"
      ]
     },
     "execution_count": 18,
     "metadata": {},
     "output_type": "execute_result"
    }
   ],
   "source": [
    "df_year.groupby(\"Sales Month\").sum()[\"Total Sales\"].sort_values(ascending=False).round(3)"
   ]
  },
  {
   "cell_type": "markdown",
   "id": "3ca121f3",
   "metadata": {},
   "source": [
    "**December** is the best month for sales. "
   ]
  },
  {
   "cell_type": "markdown",
   "id": "fde82f28",
   "metadata": {},
   "source": [
    "---\n",
    ">Now, let's use `Order Date` column to answer the same question:"
   ]
  },
  {
   "cell_type": "code",
   "execution_count": 19,
   "id": "3a819380",
   "metadata": {},
   "outputs": [],
   "source": [
    "#converting the Order Date column type to datetime:\n",
    "\n",
    "df_year_t = df_year.copy()\n",
    "\n",
    "df_year_t[\"Order Date\"] = pd.to_datetime(df_year_t[\"Order Date\"], errors=\"coerce\")"
   ]
  },
  {
   "cell_type": "code",
   "execution_count": 20,
   "id": "50cc3968",
   "metadata": {},
   "outputs": [],
   "source": [
    "#Creating a separate `Month` column by using `dt` method.\n",
    "df_year_t[\"Month\"] = df_year_t[\"Order Date\"].dt.month_name()"
   ]
  },
  {
   "cell_type": "code",
   "execution_count": 21,
   "id": "676fc9fe",
   "metadata": {},
   "outputs": [
    {
     "data": {
      "text/html": [
       "<div>\n",
       "<style scoped>\n",
       "    .dataframe tbody tr th:only-of-type {\n",
       "        vertical-align: middle;\n",
       "    }\n",
       "\n",
       "    .dataframe tbody tr th {\n",
       "        vertical-align: top;\n",
       "    }\n",
       "\n",
       "    .dataframe thead th {\n",
       "        text-align: right;\n",
       "    }\n",
       "</style>\n",
       "<table border=\"1\" class=\"dataframe\">\n",
       "  <thead>\n",
       "    <tr style=\"text-align: right;\">\n",
       "      <th></th>\n",
       "      <th>Order ID</th>\n",
       "      <th>Product</th>\n",
       "      <th>Quantity Ordered</th>\n",
       "      <th>Price Each</th>\n",
       "      <th>Order Date</th>\n",
       "      <th>Purchase Address</th>\n",
       "      <th>Sales Month</th>\n",
       "      <th>Total Sales</th>\n",
       "      <th>Month</th>\n",
       "    </tr>\n",
       "  </thead>\n",
       "  <tbody>\n",
       "    <tr>\n",
       "      <th>0</th>\n",
       "      <td>176558</td>\n",
       "      <td>USB-C Charging Cable</td>\n",
       "      <td>2</td>\n",
       "      <td>11.95</td>\n",
       "      <td>2019-04-19 08:46:00</td>\n",
       "      <td>917 1st St, Dallas, TX 75001</td>\n",
       "      <td>April</td>\n",
       "      <td>23.90</td>\n",
       "      <td>April</td>\n",
       "    </tr>\n",
       "    <tr>\n",
       "      <th>2</th>\n",
       "      <td>176559</td>\n",
       "      <td>Bose SoundSport Headphones</td>\n",
       "      <td>1</td>\n",
       "      <td>99.99</td>\n",
       "      <td>2019-04-07 22:30:00</td>\n",
       "      <td>682 Chestnut St, Boston, MA 02215</td>\n",
       "      <td>April</td>\n",
       "      <td>99.99</td>\n",
       "      <td>April</td>\n",
       "    </tr>\n",
       "    <tr>\n",
       "      <th>3</th>\n",
       "      <td>176560</td>\n",
       "      <td>Google Phone</td>\n",
       "      <td>1</td>\n",
       "      <td>600.00</td>\n",
       "      <td>2019-04-12 14:38:00</td>\n",
       "      <td>669 Spruce St, Los Angeles, CA 90001</td>\n",
       "      <td>April</td>\n",
       "      <td>600.00</td>\n",
       "      <td>April</td>\n",
       "    </tr>\n",
       "  </tbody>\n",
       "</table>\n",
       "</div>"
      ],
      "text/plain": [
       "  Order ID                     Product  Quantity Ordered  Price Each  \\\n",
       "0   176558        USB-C Charging Cable                 2       11.95   \n",
       "2   176559  Bose SoundSport Headphones                 1       99.99   \n",
       "3   176560                Google Phone                 1      600.00   \n",
       "\n",
       "           Order Date                      Purchase Address Sales Month  \\\n",
       "0 2019-04-19 08:46:00          917 1st St, Dallas, TX 75001       April   \n",
       "2 2019-04-07 22:30:00     682 Chestnut St, Boston, MA 02215       April   \n",
       "3 2019-04-12 14:38:00  669 Spruce St, Los Angeles, CA 90001       April   \n",
       "\n",
       "   Total Sales  Month  \n",
       "0        23.90  April  \n",
       "2        99.99  April  \n",
       "3       600.00  April  "
      ]
     },
     "execution_count": 21,
     "metadata": {},
     "output_type": "execute_result"
    }
   ],
   "source": [
    "df_year_t.head(3)"
   ]
  },
  {
   "cell_type": "code",
   "execution_count": 22,
   "id": "b0b13c4e",
   "metadata": {},
   "outputs": [
    {
     "data": {
      "text/plain": [
       "Month\n",
       "December     4613443.34\n",
       "October      3736726.88\n",
       "April        3390670.24\n",
       "November     3199603.20\n",
       "May          3152606.75\n",
       "March        2807100.38\n",
       "July         2647775.76\n",
       "June         2577802.26\n",
       "August       2244467.88\n",
       "February     2202022.42\n",
       "September    2097560.13\n",
       "January      1822256.73\n",
       "Name: Total Sales, dtype: float64"
      ]
     },
     "execution_count": 22,
     "metadata": {},
     "output_type": "execute_result"
    }
   ],
   "source": [
    "df_year_t.groupby(\"Month\").sum()[\"Total Sales\"].sort_values(ascending=False).round(3)"
   ]
  },
  {
   "cell_type": "markdown",
   "id": "669e437c",
   "metadata": {},
   "source": [
    "**December** (12th month) has been proved to be the best month for sales again.\n",
    "\n",
    "#### Note:\n",
    "It is also important to note that, when two methods we've used are compared, there is a small discrepancy between the sum of sales amounts for each month.\n",
    "\n",
    "This should indicate that some of the sales figures in the excel files have been incorrectly tagged.\n",
    "\n",
    "In fact, it can be seen from the \"Sales_April_2019.csv\" file that there are a couple of records which belong to 01/05/2019 (May) for instance. This issue is valid for the other months as well. This needs to be addressed to relevant staff who created the excel files.\n",
    "\n",
    "We will be using **`Month`** column for the rest of the analysis."
   ]
  },
  {
   "cell_type": "code",
   "execution_count": 23,
   "id": "0133c0fe",
   "metadata": {},
   "outputs": [],
   "source": [
    "df_year_t.drop(\"Sales Month\",axis=1,inplace=True)"
   ]
  },
  {
   "cell_type": "markdown",
   "id": "09e67a06",
   "metadata": {},
   "source": [
    "---\n",
    "Now, let's visualize the sales distribution by month:"
   ]
  },
  {
   "cell_type": "code",
   "execution_count": 24,
   "id": "9d4b27a0",
   "metadata": {},
   "outputs": [],
   "source": [
    "import seaborn as sns\n",
    "import matplotlib.pyplot as plt"
   ]
  },
  {
   "cell_type": "code",
   "execution_count": 25,
   "id": "c35b9a7f",
   "metadata": {},
   "outputs": [
    {
     "data": {
      "image/png": "[encoded data removed]",
      "text/plain": [
       "<Figure size 675x375 with 1 Axes>"
      ]
     },
     "metadata": {
      "needs_background": "light"
     },
     "output_type": "display_data"
    }
   ],
   "source": [
    "plt.figure(figsize=(9,5),dpi=75)\n",
    "order=['January','February','March','April','May','June','July',\n",
    "       'August','September','October', 'November','December']\n",
    "\n",
    "g = sns.barplot(data=df_year_t, x=\"Month\", y=\"Total Sales\",ci=None, order=order, estimator=sum)\n",
    "\n",
    "g.set_xlabel(\"Month\", weight=\"bold\")\n",
    "g.set_ylabel(\"Total Sales\", weight=\"bold\")\n",
    "g.set_xticklabels(order,rotation=45) #or : plt.xticks(rotation=45)\n",
    "plt.ticklabel_format(style=\"plain\", axis=\"y\")\n",
    "\n",
    "#highlighting the month with best sales (will be displyed in red color)\n",
    "height=[]\n",
    "for bar in g.patches:\n",
    "    height.append(bar.get_height())\n",
    "    \n",
    "for bar in g.patches:   \n",
    "    if bar.get_height()==max(height):\n",
    "        bar.set_color(\"red\")\n",
    "    else:\n",
    "        bar.set_color(\"grey\")\n"
   ]
  },
  {
   "cell_type": "code",
   "execution_count": null,
   "id": "dc56ed0d",
   "metadata": {},
   "outputs": [],
   "source": []
  },
  {
   "cell_type": "markdown",
   "id": "dd466e09",
   "metadata": {},
   "source": [
    "### Question 2 : Which city had the highest amount of sales?\n",
    "<a id=\"Q2\"></a>"
   ]
  },
  {
   "cell_type": "markdown",
   "id": "4541024c",
   "metadata": {},
   "source": [
    "We can grab the city(state) name only from the `Purchase Address` column which has the format:\n",
    "\n",
    "    Street, CityName, StateCode PostalCode\n",
    "\n",
    "One thing to consider here is the possibility of duplicating city names in different states (such as Portland).\n",
    "In order to avoid this, we should be getting the city name along with the state code, such as \n",
    "\n",
    "      Dallas TX\n",
    "\n",
    "We can do that either by a customized function along with apply method or by str methods on columns. We will be also creating a new column called `City`."
   ]
  },
  {
   "cell_type": "code",
   "execution_count": 26,
   "id": "7c03bfeb",
   "metadata": {},
   "outputs": [],
   "source": [
    "df_year_t[\"City\"]=df_year_t[\"Purchase Address\"].str.split(\",\").str[1]+df_year_t[\"Purchase Address\"].str.split(\",\").str[2].str[0:3]"
   ]
  },
  {
   "cell_type": "code",
   "execution_count": 27,
   "id": "1dd07508",
   "metadata": {},
   "outputs": [
    {
     "data": {
      "text/html": [
       "<div>\n",
       "<style scoped>\n",
       "    .dataframe tbody tr th:only-of-type {\n",
       "        vertical-align: middle;\n",
       "    }\n",
       "\n",
       "    .dataframe tbody tr th {\n",
       "        vertical-align: top;\n",
       "    }\n",
       "\n",
       "    .dataframe thead th {\n",
       "        text-align: right;\n",
       "    }\n",
       "</style>\n",
       "<table border=\"1\" class=\"dataframe\">\n",
       "  <thead>\n",
       "    <tr style=\"text-align: right;\">\n",
       "      <th></th>\n",
       "      <th>Order ID</th>\n",
       "      <th>Product</th>\n",
       "      <th>Quantity Ordered</th>\n",
       "      <th>Price Each</th>\n",
       "      <th>Order Date</th>\n",
       "      <th>Purchase Address</th>\n",
       "      <th>Total Sales</th>\n",
       "      <th>Month</th>\n",
       "      <th>City</th>\n",
       "    </tr>\n",
       "  </thead>\n",
       "  <tbody>\n",
       "    <tr>\n",
       "      <th>0</th>\n",
       "      <td>176558</td>\n",
       "      <td>USB-C Charging Cable</td>\n",
       "      <td>2</td>\n",
       "      <td>11.95</td>\n",
       "      <td>2019-04-19 08:46:00</td>\n",
       "      <td>917 1st St, Dallas, TX 75001</td>\n",
       "      <td>23.90</td>\n",
       "      <td>April</td>\n",
       "      <td>Dallas TX</td>\n",
       "    </tr>\n",
       "    <tr>\n",
       "      <th>2</th>\n",
       "      <td>176559</td>\n",
       "      <td>Bose SoundSport Headphones</td>\n",
       "      <td>1</td>\n",
       "      <td>99.99</td>\n",
       "      <td>2019-04-07 22:30:00</td>\n",
       "      <td>682 Chestnut St, Boston, MA 02215</td>\n",
       "      <td>99.99</td>\n",
       "      <td>April</td>\n",
       "      <td>Boston MA</td>\n",
       "    </tr>\n",
       "    <tr>\n",
       "      <th>3</th>\n",
       "      <td>176560</td>\n",
       "      <td>Google Phone</td>\n",
       "      <td>1</td>\n",
       "      <td>600.00</td>\n",
       "      <td>2019-04-12 14:38:00</td>\n",
       "      <td>669 Spruce St, Los Angeles, CA 90001</td>\n",
       "      <td>600.00</td>\n",
       "      <td>April</td>\n",
       "      <td>Los Angeles CA</td>\n",
       "    </tr>\n",
       "  </tbody>\n",
       "</table>\n",
       "</div>"
      ],
      "text/plain": [
       "  Order ID                     Product  Quantity Ordered  Price Each  \\\n",
       "0   176558        USB-C Charging Cable                 2       11.95   \n",
       "2   176559  Bose SoundSport Headphones                 1       99.99   \n",
       "3   176560                Google Phone                 1      600.00   \n",
       "\n",
       "           Order Date                      Purchase Address  Total Sales  \\\n",
       "0 2019-04-19 08:46:00          917 1st St, Dallas, TX 75001        23.90   \n",
       "2 2019-04-07 22:30:00     682 Chestnut St, Boston, MA 02215        99.99   \n",
       "3 2019-04-12 14:38:00  669 Spruce St, Los Angeles, CA 90001       600.00   \n",
       "\n",
       "   Month             City  \n",
       "0  April        Dallas TX  \n",
       "2  April        Boston MA  \n",
       "3  April   Los Angeles CA  "
      ]
     },
     "execution_count": 27,
     "metadata": {},
     "output_type": "execute_result"
    }
   ],
   "source": [
    "#a quick look to the new dataframe with City column:\n",
    "df_year_t.head(3)"
   ]
  },
  {
   "cell_type": "markdown",
   "id": "05e42aca",
   "metadata": {},
   "source": [
    "Now we can answer the question by a groupby method - in the same sense we did for the months:"
   ]
  },
  {
   "cell_type": "code",
   "execution_count": 28,
   "id": "70ea3a4f",
   "metadata": {},
   "outputs": [
    {
     "data": {
      "text/plain": [
       "City\n",
       " San Francisco CA    8262203.91\n",
       " Los Angeles CA      5452570.80\n",
       " New York City NY    4664317.43\n",
       " Boston MA           3661642.01\n",
       " Atlanta GA          2795498.58\n",
       " Dallas TX           2767975.40\n",
       " Seattle WA          2747755.48\n",
       " Portland OR         1870732.34\n",
       " Austin TX           1819581.75\n",
       " Portland ME          449758.27\n",
       "Name: Total Sales, dtype: float64"
      ]
     },
     "execution_count": 28,
     "metadata": {},
     "output_type": "execute_result"
    }
   ],
   "source": [
    "df_year_t.groupby(\"City\").sum()[\"Total Sales\"].sort_values(ascending=False).round(3)"
   ]
  },
  {
   "cell_type": "markdown",
   "id": "75fca691",
   "metadata": {},
   "source": [
    "San Francisco has the highest amount of sales by far among other cities. Please do notice that there are two cities named \"Portland\" and that information would be lost if we had not combined the city name with the state code.  "
   ]
  },
  {
   "cell_type": "markdown",
   "id": "edd8f2ed",
   "metadata": {},
   "source": [
    "---\n",
    "Now, let's visualize the sales distribution by city (in the same logic we did for months):"
   ]
  },
  {
   "cell_type": "code",
   "execution_count": 29,
   "id": "930fd78b",
   "metadata": {},
   "outputs": [
    {
     "data": {
      "image/png": "[encoded data removed]",
      "text/plain": [
       "<Figure size 675x375 with 1 Axes>"
      ]
     },
     "metadata": {
      "needs_background": "light"
     },
     "output_type": "display_data"
    }
   ],
   "source": [
    "plt.figure(figsize=(9,5),dpi=75)\n",
    "\n",
    "g = sns.barplot(data=df_year_t, x=\"City\", y=\"Total Sales\", ci=None, estimator=sum)\n",
    "\n",
    "g.set_xlabel(\"City\", weight='bold')\n",
    "g.set_ylabel(\"Total Sales\", weight=\"bold\")\n",
    "plt.xticks(rotation=45)\n",
    "plt.ticklabel_format(style=\"plain\", axis=\"y\")\n",
    "\n",
    "#highlighting the city with best sales (will be displyed in green color)\n",
    "height=[]\n",
    "for bar in g.patches:\n",
    "    height.append(bar.get_height())\n",
    "    \n",
    "for bar in g.patches:   \n",
    "    if bar.get_height()==max(height):\n",
    "        bar.set_color(\"#bfe809\")\n",
    "    else:\n",
    "        bar.set_color(\"grey\")"
   ]
  },
  {
   "cell_type": "code",
   "execution_count": null,
   "id": "21cd6943",
   "metadata": {},
   "outputs": [],
   "source": []
  },
  {
   "cell_type": "markdown",
   "id": "1751211b",
   "metadata": {},
   "source": [
    "### Question 3 : What time should we display advertisements to maximize likelihood of customer's buying product?\n",
    "<a id=\"Q3\"></a>"
   ]
  },
  {
   "cell_type": "markdown",
   "id": "0c6327ce",
   "metadata": {},
   "source": [
    "We may come up with some ideas only if we know about the distrubition of orders along the hours of the day. And we can grab this information from the `Order Date` column. Please note, we have already converted this column to datetime format and it is ready to be to worked on.\n",
    "\n",
    "We can create a new column showing the the hour of the day and then we can analyze the sales based on it."
   ]
  },
  {
   "cell_type": "code",
   "execution_count": 30,
   "id": "c0bf9a03",
   "metadata": {},
   "outputs": [],
   "source": [
    "df_year_t[\"Hour\"]=df_year_t[\"Order Date\"].dt.strftime('%H:%M')"
   ]
  },
  {
   "cell_type": "code",
   "execution_count": 31,
   "id": "34a2155b",
   "metadata": {},
   "outputs": [
    {
     "data": {
      "text/html": [
       "<div>\n",
       "<style scoped>\n",
       "    .dataframe tbody tr th:only-of-type {\n",
       "        vertical-align: middle;\n",
       "    }\n",
       "\n",
       "    .dataframe tbody tr th {\n",
       "        vertical-align: top;\n",
       "    }\n",
       "\n",
       "    .dataframe thead th {\n",
       "        text-align: right;\n",
       "    }\n",
       "</style>\n",
       "<table border=\"1\" class=\"dataframe\">\n",
       "  <thead>\n",
       "    <tr style=\"text-align: right;\">\n",
       "      <th></th>\n",
       "      <th>Order ID</th>\n",
       "      <th>Product</th>\n",
       "      <th>Quantity Ordered</th>\n",
       "      <th>Price Each</th>\n",
       "      <th>Order Date</th>\n",
       "      <th>Purchase Address</th>\n",
       "      <th>Total Sales</th>\n",
       "      <th>Month</th>\n",
       "      <th>City</th>\n",
       "      <th>Hour</th>\n",
       "    </tr>\n",
       "  </thead>\n",
       "  <tbody>\n",
       "    <tr>\n",
       "      <th>0</th>\n",
       "      <td>176558</td>\n",
       "      <td>USB-C Charging Cable</td>\n",
       "      <td>2</td>\n",
       "      <td>11.95</td>\n",
       "      <td>2019-04-19 08:46:00</td>\n",
       "      <td>917 1st St, Dallas, TX 75001</td>\n",
       "      <td>23.90</td>\n",
       "      <td>April</td>\n",
       "      <td>Dallas TX</td>\n",
       "      <td>08:46</td>\n",
       "    </tr>\n",
       "    <tr>\n",
       "      <th>2</th>\n",
       "      <td>176559</td>\n",
       "      <td>Bose SoundSport Headphones</td>\n",
       "      <td>1</td>\n",
       "      <td>99.99</td>\n",
       "      <td>2019-04-07 22:30:00</td>\n",
       "      <td>682 Chestnut St, Boston, MA 02215</td>\n",
       "      <td>99.99</td>\n",
       "      <td>April</td>\n",
       "      <td>Boston MA</td>\n",
       "      <td>22:30</td>\n",
       "    </tr>\n",
       "    <tr>\n",
       "      <th>3</th>\n",
       "      <td>176560</td>\n",
       "      <td>Google Phone</td>\n",
       "      <td>1</td>\n",
       "      <td>600.00</td>\n",
       "      <td>2019-04-12 14:38:00</td>\n",
       "      <td>669 Spruce St, Los Angeles, CA 90001</td>\n",
       "      <td>600.00</td>\n",
       "      <td>April</td>\n",
       "      <td>Los Angeles CA</td>\n",
       "      <td>14:38</td>\n",
       "    </tr>\n",
       "  </tbody>\n",
       "</table>\n",
       "</div>"
      ],
      "text/plain": [
       "  Order ID                     Product  Quantity Ordered  Price Each  \\\n",
       "0   176558        USB-C Charging Cable                 2       11.95   \n",
       "2   176559  Bose SoundSport Headphones                 1       99.99   \n",
       "3   176560                Google Phone                 1      600.00   \n",
       "\n",
       "           Order Date                      Purchase Address  Total Sales  \\\n",
       "0 2019-04-19 08:46:00          917 1st St, Dallas, TX 75001        23.90   \n",
       "2 2019-04-07 22:30:00     682 Chestnut St, Boston, MA 02215        99.99   \n",
       "3 2019-04-12 14:38:00  669 Spruce St, Los Angeles, CA 90001       600.00   \n",
       "\n",
       "   Month             City   Hour  \n",
       "0  April        Dallas TX  08:46  \n",
       "2  April        Boston MA  22:30  \n",
       "3  April   Los Angeles CA  14:38  "
      ]
     },
     "execution_count": 31,
     "metadata": {},
     "output_type": "execute_result"
    }
   ],
   "source": [
    "#a quick look to the new dataframe with City column:\n",
    "df_year_t.head(3)"
   ]
  },
  {
   "cell_type": "markdown",
   "id": "3d176e84",
   "metadata": {},
   "source": [
    "---\n",
    "Now, let's visualize the sales distribution by hour:"
   ]
  },
  {
   "cell_type": "code",
   "execution_count": 32,
   "id": "bf07a9de",
   "metadata": {},
   "outputs": [
    {
     "data": {
      "text/plain": [
       "<Figure size 3000x1400 with 0 Axes>"
      ]
     },
     "metadata": {},
     "output_type": "display_data"
    },
    {
     "data": {
      "image/png": "[encoded data removed]",
      "text/plain": [
       "<Figure size 1296x648 with 1 Axes>"
      ]
     },
     "metadata": {
      "needs_background": "light"
     },
     "output_type": "display_data"
    }
   ],
   "source": [
    "plt.figure(figsize=(15,7), dpi=200)\n",
    "sns.displot(data=df_year_t,x=pd.to_datetime(df_year_t[\"Hour\"]), kde=True, bins=24, height=9, aspect=2)\n",
    "plt.xlabel(\"Hour\",fontsize=16, weight=\"bold\")\n",
    "plt.ylabel(\"Count\",fontsize=16, weight=\"bold\");\n"
   ]
  },
  {
   "cell_type": "markdown",
   "id": "e448e7b1",
   "metadata": {},
   "source": [
    "According to the figure, it may make sense to display the ads before the peak times (before 11 am or before 19 pm) to boost the sales further. Having the ads in the bottom times (03 am in the morning) most probably will not have any effect."
   ]
  },
  {
   "cell_type": "code",
   "execution_count": null,
   "id": "e333d118",
   "metadata": {},
   "outputs": [],
   "source": []
  },
  {
   "cell_type": "markdown",
   "id": "8156f82e",
   "metadata": {},
   "source": [
    "### Question 4 : Which products are most often sold together?\n",
    "<a id=\"Q4\"></a>"
   ]
  },
  {
   "cell_type": "markdown",
   "id": "18477ddb",
   "metadata": {},
   "source": [
    "In order to identify those \"bundle\"s, we should be able to pack those products together and then dive into the pack afterwards.\n",
    "\n",
    "In the dataframe, each individual row represents a single product and we can only identify the products sold together via `Order ID` column which have same values. As long as the order id values are the same, we can be sure that the relevant products have been sold together.\n",
    "\n",
    "So, we will create a new dataframe (df_dup) consisting of only duplicated order ids:"
   ]
  },
  {
   "cell_type": "code",
   "execution_count": 33,
   "id": "71f49af9",
   "metadata": {},
   "outputs": [],
   "source": [
    "df_dup = df_year_t[df_year_t[\"Order ID\"].duplicated(keep=False)] #that will keep all duplicated rows within the dataframe"
   ]
  },
  {
   "cell_type": "code",
   "execution_count": 34,
   "id": "b495ba13",
   "metadata": {
    "scrolled": true
   },
   "outputs": [
    {
     "data": {
      "text/html": [
       "<div>\n",
       "<style scoped>\n",
       "    .dataframe tbody tr th:only-of-type {\n",
       "        vertical-align: middle;\n",
       "    }\n",
       "\n",
       "    .dataframe tbody tr th {\n",
       "        vertical-align: top;\n",
       "    }\n",
       "\n",
       "    .dataframe thead th {\n",
       "        text-align: right;\n",
       "    }\n",
       "</style>\n",
       "<table border=\"1\" class=\"dataframe\">\n",
       "  <thead>\n",
       "    <tr style=\"text-align: right;\">\n",
       "      <th></th>\n",
       "      <th>Order ID</th>\n",
       "      <th>Product</th>\n",
       "      <th>Quantity Ordered</th>\n",
       "      <th>Price Each</th>\n",
       "      <th>Order Date</th>\n",
       "      <th>Purchase Address</th>\n",
       "      <th>Total Sales</th>\n",
       "      <th>Month</th>\n",
       "      <th>City</th>\n",
       "      <th>Hour</th>\n",
       "    </tr>\n",
       "  </thead>\n",
       "  <tbody>\n",
       "    <tr>\n",
       "      <th>3</th>\n",
       "      <td>176560</td>\n",
       "      <td>Google Phone</td>\n",
       "      <td>1</td>\n",
       "      <td>600.00</td>\n",
       "      <td>2019-04-12 14:38:00</td>\n",
       "      <td>669 Spruce St, Los Angeles, CA 90001</td>\n",
       "      <td>600.00</td>\n",
       "      <td>April</td>\n",
       "      <td>Los Angeles CA</td>\n",
       "      <td>14:38</td>\n",
       "    </tr>\n",
       "    <tr>\n",
       "      <th>4</th>\n",
       "      <td>176560</td>\n",
       "      <td>Wired Headphones</td>\n",
       "      <td>1</td>\n",
       "      <td>11.99</td>\n",
       "      <td>2019-04-12 14:38:00</td>\n",
       "      <td>669 Spruce St, Los Angeles, CA 90001</td>\n",
       "      <td>11.99</td>\n",
       "      <td>April</td>\n",
       "      <td>Los Angeles CA</td>\n",
       "      <td>14:38</td>\n",
       "    </tr>\n",
       "    <tr>\n",
       "      <th>18</th>\n",
       "      <td>176574</td>\n",
       "      <td>Google Phone</td>\n",
       "      <td>1</td>\n",
       "      <td>600.00</td>\n",
       "      <td>2019-04-03 19:42:00</td>\n",
       "      <td>20 Hill St, Los Angeles, CA 90001</td>\n",
       "      <td>600.00</td>\n",
       "      <td>April</td>\n",
       "      <td>Los Angeles CA</td>\n",
       "      <td>19:42</td>\n",
       "    </tr>\n",
       "    <tr>\n",
       "      <th>19</th>\n",
       "      <td>176574</td>\n",
       "      <td>USB-C Charging Cable</td>\n",
       "      <td>1</td>\n",
       "      <td>11.95</td>\n",
       "      <td>2019-04-03 19:42:00</td>\n",
       "      <td>20 Hill St, Los Angeles, CA 90001</td>\n",
       "      <td>11.95</td>\n",
       "      <td>April</td>\n",
       "      <td>Los Angeles CA</td>\n",
       "      <td>19:42</td>\n",
       "    </tr>\n",
       "    <tr>\n",
       "      <th>30</th>\n",
       "      <td>176585</td>\n",
       "      <td>Bose SoundSport Headphones</td>\n",
       "      <td>1</td>\n",
       "      <td>99.99</td>\n",
       "      <td>2019-04-07 11:31:00</td>\n",
       "      <td>823 Highland St, Boston, MA 02215</td>\n",
       "      <td>99.99</td>\n",
       "      <td>April</td>\n",
       "      <td>Boston MA</td>\n",
       "      <td>11:31</td>\n",
       "    </tr>\n",
       "    <tr>\n",
       "      <th>31</th>\n",
       "      <td>176585</td>\n",
       "      <td>Bose SoundSport Headphones</td>\n",
       "      <td>1</td>\n",
       "      <td>99.99</td>\n",
       "      <td>2019-04-07 11:31:00</td>\n",
       "      <td>823 Highland St, Boston, MA 02215</td>\n",
       "      <td>99.99</td>\n",
       "      <td>April</td>\n",
       "      <td>Boston MA</td>\n",
       "      <td>11:31</td>\n",
       "    </tr>\n",
       "  </tbody>\n",
       "</table>\n",
       "</div>"
      ],
      "text/plain": [
       "   Order ID                     Product  Quantity Ordered  Price Each  \\\n",
       "3    176560                Google Phone                 1      600.00   \n",
       "4    176560            Wired Headphones                 1       11.99   \n",
       "18   176574                Google Phone                 1      600.00   \n",
       "19   176574        USB-C Charging Cable                 1       11.95   \n",
       "30   176585  Bose SoundSport Headphones                 1       99.99   \n",
       "31   176585  Bose SoundSport Headphones                 1       99.99   \n",
       "\n",
       "            Order Date                      Purchase Address  Total Sales  \\\n",
       "3  2019-04-12 14:38:00  669 Spruce St, Los Angeles, CA 90001       600.00   \n",
       "4  2019-04-12 14:38:00  669 Spruce St, Los Angeles, CA 90001        11.99   \n",
       "18 2019-04-03 19:42:00     20 Hill St, Los Angeles, CA 90001       600.00   \n",
       "19 2019-04-03 19:42:00     20 Hill St, Los Angeles, CA 90001        11.95   \n",
       "30 2019-04-07 11:31:00     823 Highland St, Boston, MA 02215        99.99   \n",
       "31 2019-04-07 11:31:00     823 Highland St, Boston, MA 02215        99.99   \n",
       "\n",
       "    Month             City   Hour  \n",
       "3   April   Los Angeles CA  14:38  \n",
       "4   April   Los Angeles CA  14:38  \n",
       "18  April   Los Angeles CA  19:42  \n",
       "19  April   Los Angeles CA  19:42  \n",
       "30  April        Boston MA  11:31  \n",
       "31  April        Boston MA  11:31  "
      ]
     },
     "execution_count": 34,
     "metadata": {},
     "output_type": "execute_result"
    }
   ],
   "source": [
    "#a quick look to the new dataframe consisting only from duplicated values:\n",
    "df_dup.head(6)"
   ]
  },
  {
   "cell_type": "code",
   "execution_count": null,
   "id": "05cd4705",
   "metadata": {},
   "outputs": [],
   "source": []
  },
  {
   "cell_type": "markdown",
   "id": "c9640f36",
   "metadata": {},
   "source": [
    "We'd be able to combine those individual products based on their order ids by a combination of groupby and `transform` methods:"
   ]
  },
  {
   "cell_type": "code",
   "execution_count": 35,
   "id": "bc8e9b35",
   "metadata": {},
   "outputs": [
    {
     "name": "stderr",
     "output_type": "stream",
     "text": [
      "<ipython-input-35-b10a784b7a92>:1: SettingWithCopyWarning: \n",
      "A value is trying to be set on a copy of a slice from a DataFrame.\n",
      "Try using .loc[row_indexer,col_indexer] = value instead\n",
      "\n",
      "See the caveats in the documentation: https://pandas.pydata.org/pandas-docs/stable/user_guide/indexing.html#returning-a-view-versus-a-copy\n",
      "  df_dup[\"Bundled\"] = df_dup.groupby(\"Order ID\")[\"Product\"].transform(lambda i : \"&\".join(i))\n"
     ]
    }
   ],
   "source": [
    "df_dup[\"Bundled\"] = df_dup.groupby(\"Order ID\")[\"Product\"].transform(lambda i : \"&\".join(i))"
   ]
  },
  {
   "cell_type": "code",
   "execution_count": 36,
   "id": "a5cedfc6",
   "metadata": {},
   "outputs": [
    {
     "data": {
      "text/html": [
       "<div>\n",
       "<style scoped>\n",
       "    .dataframe tbody tr th:only-of-type {\n",
       "        vertical-align: middle;\n",
       "    }\n",
       "\n",
       "    .dataframe tbody tr th {\n",
       "        vertical-align: top;\n",
       "    }\n",
       "\n",
       "    .dataframe thead th {\n",
       "        text-align: right;\n",
       "    }\n",
       "</style>\n",
       "<table border=\"1\" class=\"dataframe\">\n",
       "  <thead>\n",
       "    <tr style=\"text-align: right;\">\n",
       "      <th></th>\n",
       "      <th>Order ID</th>\n",
       "      <th>Product</th>\n",
       "      <th>Quantity Ordered</th>\n",
       "      <th>Price Each</th>\n",
       "      <th>Order Date</th>\n",
       "      <th>Purchase Address</th>\n",
       "      <th>Total Sales</th>\n",
       "      <th>Month</th>\n",
       "      <th>City</th>\n",
       "      <th>Hour</th>\n",
       "      <th>Bundled</th>\n",
       "    </tr>\n",
       "  </thead>\n",
       "  <tbody>\n",
       "    <tr>\n",
       "      <th>3</th>\n",
       "      <td>176560</td>\n",
       "      <td>Google Phone</td>\n",
       "      <td>1</td>\n",
       "      <td>600.00</td>\n",
       "      <td>2019-04-12 14:38:00</td>\n",
       "      <td>669 Spruce St, Los Angeles, CA 90001</td>\n",
       "      <td>600.00</td>\n",
       "      <td>April</td>\n",
       "      <td>Los Angeles CA</td>\n",
       "      <td>14:38</td>\n",
       "      <td>Google Phone&amp;Wired Headphones</td>\n",
       "    </tr>\n",
       "    <tr>\n",
       "      <th>4</th>\n",
       "      <td>176560</td>\n",
       "      <td>Wired Headphones</td>\n",
       "      <td>1</td>\n",
       "      <td>11.99</td>\n",
       "      <td>2019-04-12 14:38:00</td>\n",
       "      <td>669 Spruce St, Los Angeles, CA 90001</td>\n",
       "      <td>11.99</td>\n",
       "      <td>April</td>\n",
       "      <td>Los Angeles CA</td>\n",
       "      <td>14:38</td>\n",
       "      <td>Google Phone&amp;Wired Headphones</td>\n",
       "    </tr>\n",
       "    <tr>\n",
       "      <th>18</th>\n",
       "      <td>176574</td>\n",
       "      <td>Google Phone</td>\n",
       "      <td>1</td>\n",
       "      <td>600.00</td>\n",
       "      <td>2019-04-03 19:42:00</td>\n",
       "      <td>20 Hill St, Los Angeles, CA 90001</td>\n",
       "      <td>600.00</td>\n",
       "      <td>April</td>\n",
       "      <td>Los Angeles CA</td>\n",
       "      <td>19:42</td>\n",
       "      <td>Google Phone&amp;USB-C Charging Cable</td>\n",
       "    </tr>\n",
       "    <tr>\n",
       "      <th>19</th>\n",
       "      <td>176574</td>\n",
       "      <td>USB-C Charging Cable</td>\n",
       "      <td>1</td>\n",
       "      <td>11.95</td>\n",
       "      <td>2019-04-03 19:42:00</td>\n",
       "      <td>20 Hill St, Los Angeles, CA 90001</td>\n",
       "      <td>11.95</td>\n",
       "      <td>April</td>\n",
       "      <td>Los Angeles CA</td>\n",
       "      <td>19:42</td>\n",
       "      <td>Google Phone&amp;USB-C Charging Cable</td>\n",
       "    </tr>\n",
       "    <tr>\n",
       "      <th>30</th>\n",
       "      <td>176585</td>\n",
       "      <td>Bose SoundSport Headphones</td>\n",
       "      <td>1</td>\n",
       "      <td>99.99</td>\n",
       "      <td>2019-04-07 11:31:00</td>\n",
       "      <td>823 Highland St, Boston, MA 02215</td>\n",
       "      <td>99.99</td>\n",
       "      <td>April</td>\n",
       "      <td>Boston MA</td>\n",
       "      <td>11:31</td>\n",
       "      <td>Bose SoundSport Headphones&amp;Bose SoundSport Hea...</td>\n",
       "    </tr>\n",
       "    <tr>\n",
       "      <th>31</th>\n",
       "      <td>176585</td>\n",
       "      <td>Bose SoundSport Headphones</td>\n",
       "      <td>1</td>\n",
       "      <td>99.99</td>\n",
       "      <td>2019-04-07 11:31:00</td>\n",
       "      <td>823 Highland St, Boston, MA 02215</td>\n",
       "      <td>99.99</td>\n",
       "      <td>April</td>\n",
       "      <td>Boston MA</td>\n",
       "      <td>11:31</td>\n",
       "      <td>Bose SoundSport Headphones&amp;Bose SoundSport Hea...</td>\n",
       "    </tr>\n",
       "  </tbody>\n",
       "</table>\n",
       "</div>"
      ],
      "text/plain": [
       "   Order ID                     Product  Quantity Ordered  Price Each  \\\n",
       "3    176560                Google Phone                 1      600.00   \n",
       "4    176560            Wired Headphones                 1       11.99   \n",
       "18   176574                Google Phone                 1      600.00   \n",
       "19   176574        USB-C Charging Cable                 1       11.95   \n",
       "30   176585  Bose SoundSport Headphones                 1       99.99   \n",
       "31   176585  Bose SoundSport Headphones                 1       99.99   \n",
       "\n",
       "            Order Date                      Purchase Address  Total Sales  \\\n",
       "3  2019-04-12 14:38:00  669 Spruce St, Los Angeles, CA 90001       600.00   \n",
       "4  2019-04-12 14:38:00  669 Spruce St, Los Angeles, CA 90001        11.99   \n",
       "18 2019-04-03 19:42:00     20 Hill St, Los Angeles, CA 90001       600.00   \n",
       "19 2019-04-03 19:42:00     20 Hill St, Los Angeles, CA 90001        11.95   \n",
       "30 2019-04-07 11:31:00     823 Highland St, Boston, MA 02215        99.99   \n",
       "31 2019-04-07 11:31:00     823 Highland St, Boston, MA 02215        99.99   \n",
       "\n",
       "    Month             City   Hour  \\\n",
       "3   April   Los Angeles CA  14:38   \n",
       "4   April   Los Angeles CA  14:38   \n",
       "18  April   Los Angeles CA  19:42   \n",
       "19  April   Los Angeles CA  19:42   \n",
       "30  April        Boston MA  11:31   \n",
       "31  April        Boston MA  11:31   \n",
       "\n",
       "                                              Bundled  \n",
       "3                       Google Phone&Wired Headphones  \n",
       "4                       Google Phone&Wired Headphones  \n",
       "18                  Google Phone&USB-C Charging Cable  \n",
       "19                  Google Phone&USB-C Charging Cable  \n",
       "30  Bose SoundSport Headphones&Bose SoundSport Hea...  \n",
       "31  Bose SoundSport Headphones&Bose SoundSport Hea...  "
      ]
     },
     "execution_count": 36,
     "metadata": {},
     "output_type": "execute_result"
    }
   ],
   "source": [
    "#a quick look to the new dataframe with the new column \"Bundled\":\n",
    "df_dup.head(6)"
   ]
  },
  {
   "cell_type": "code",
   "execution_count": 37,
   "id": "222e3b98",
   "metadata": {},
   "outputs": [],
   "source": [
    "#as we get the bundled products available for each Order ID, we should drop the duplicated Order IDs now."
   ]
  },
  {
   "cell_type": "code",
   "execution_count": 38,
   "id": "1668f6cb",
   "metadata": {},
   "outputs": [],
   "source": [
    "df_dup = df_dup[[\"Order ID\",\"Bundled\"]].drop_duplicates()"
   ]
  },
  {
   "cell_type": "code",
   "execution_count": 39,
   "id": "8da66fac",
   "metadata": {
    "scrolled": true
   },
   "outputs": [
    {
     "data": {
      "text/html": [
       "<div>\n",
       "<style scoped>\n",
       "    .dataframe tbody tr th:only-of-type {\n",
       "        vertical-align: middle;\n",
       "    }\n",
       "\n",
       "    .dataframe tbody tr th {\n",
       "        vertical-align: top;\n",
       "    }\n",
       "\n",
       "    .dataframe thead th {\n",
       "        text-align: right;\n",
       "    }\n",
       "</style>\n",
       "<table border=\"1\" class=\"dataframe\">\n",
       "  <thead>\n",
       "    <tr style=\"text-align: right;\">\n",
       "      <th></th>\n",
       "      <th>Order ID</th>\n",
       "      <th>Bundled</th>\n",
       "    </tr>\n",
       "  </thead>\n",
       "  <tbody>\n",
       "    <tr>\n",
       "      <th>3</th>\n",
       "      <td>176560</td>\n",
       "      <td>Google Phone&amp;Wired Headphones</td>\n",
       "    </tr>\n",
       "    <tr>\n",
       "      <th>18</th>\n",
       "      <td>176574</td>\n",
       "      <td>Google Phone&amp;USB-C Charging Cable</td>\n",
       "    </tr>\n",
       "    <tr>\n",
       "      <th>30</th>\n",
       "      <td>176585</td>\n",
       "      <td>Bose SoundSport Headphones&amp;Bose SoundSport Hea...</td>\n",
       "    </tr>\n",
       "    <tr>\n",
       "      <th>32</th>\n",
       "      <td>176586</td>\n",
       "      <td>AAA Batteries (4-pack)&amp;Google Phone</td>\n",
       "    </tr>\n",
       "    <tr>\n",
       "      <th>119</th>\n",
       "      <td>176672</td>\n",
       "      <td>Lightning Charging Cable&amp;USB-C Charging Cable</td>\n",
       "    </tr>\n",
       "  </tbody>\n",
       "</table>\n",
       "</div>"
      ],
      "text/plain": [
       "    Order ID                                            Bundled\n",
       "3     176560                      Google Phone&Wired Headphones\n",
       "18    176574                  Google Phone&USB-C Charging Cable\n",
       "30    176585  Bose SoundSport Headphones&Bose SoundSport Hea...\n",
       "32    176586                AAA Batteries (4-pack)&Google Phone\n",
       "119   176672      Lightning Charging Cable&USB-C Charging Cable"
      ]
     },
     "execution_count": 39,
     "metadata": {},
     "output_type": "execute_result"
    }
   ],
   "source": [
    "df_dup.head()"
   ]
  },
  {
   "cell_type": "markdown",
   "id": "a183a582",
   "metadata": {},
   "source": [
    "Please note that some of the Bundled rows might have more than 2 products. In order to create a full list of combinations (of size two) we will be using `combinations` from itertools library and count them with the `Counter` from collections library: "
   ]
  },
  {
   "cell_type": "code",
   "execution_count": 40,
   "id": "9c9f1790",
   "metadata": {},
   "outputs": [],
   "source": [
    "from itertools import combinations\n",
    "from collections import Counter\n",
    "\n",
    "c=Counter()\n",
    "\n",
    "for row in df_dup[\"Bundled\"]:\n",
    "    row_list=sorted (row.split(\"&\"))               #the list should be sorted - Counter will count the list as a different item\n",
    "                                                   #if the order of the strings are different.\n",
    "    c.update(Counter(combinations(row_list,2)))"
   ]
  },
  {
   "cell_type": "code",
   "execution_count": 41,
   "id": "0598a67d",
   "metadata": {
    "scrolled": false
   },
   "outputs": [
    {
     "data": {
      "text/plain": [
       "[(('Lightning Charging Cable', 'iPhone'), 1015),\n",
       " (('Google Phone', 'USB-C Charging Cable'), 999),\n",
       " (('Wired Headphones', 'iPhone'), 462),\n",
       " (('Google Phone', 'Wired Headphones'), 423),\n",
       " (('Apple Airpods Headphones', 'iPhone'), 373),\n",
       " (('USB-C Charging Cable', 'Vareebadd Phone'), 368),\n",
       " (('Bose SoundSport Headphones', 'Google Phone'), 228),\n",
       " (('USB-C Charging Cable', 'Wired Headphones'), 205),\n",
       " (('Vareebadd Phone', 'Wired Headphones'), 149),\n",
       " (('Lightning Charging Cable', 'Wired Headphones'), 129)]"
      ]
     },
     "execution_count": 41,
     "metadata": {},
     "output_type": "execute_result"
    }
   ],
   "source": [
    "#using most_common method for the Counter to display most ten frequently seen bundles\n",
    "c.most_common(10)"
   ]
  },
  {
   "cell_type": "code",
   "execution_count": null,
   "id": "7c618778",
   "metadata": {},
   "outputs": [],
   "source": []
  },
  {
   "cell_type": "markdown",
   "id": "8a425b3f",
   "metadata": {},
   "source": [
    "### Question 5 : Which product was sold the most?\n",
    "<a id=\"Q5\"></a>"
   ]
  },
  {
   "cell_type": "markdown",
   "id": "13940f78",
   "metadata": {},
   "source": [
    "This is relatively an easier question and we can search for this answer within our original dataframe:"
   ]
  },
  {
   "cell_type": "code",
   "execution_count": 42,
   "id": "9c91eb23",
   "metadata": {},
   "outputs": [
    {
     "data": {
      "text/html": [
       "<div>\n",
       "<style scoped>\n",
       "    .dataframe tbody tr th:only-of-type {\n",
       "        vertical-align: middle;\n",
       "    }\n",
       "\n",
       "    .dataframe tbody tr th {\n",
       "        vertical-align: top;\n",
       "    }\n",
       "\n",
       "    .dataframe thead th {\n",
       "        text-align: right;\n",
       "    }\n",
       "</style>\n",
       "<table border=\"1\" class=\"dataframe\">\n",
       "  <thead>\n",
       "    <tr style=\"text-align: right;\">\n",
       "      <th></th>\n",
       "      <th>Order ID</th>\n",
       "      <th>Product</th>\n",
       "      <th>Quantity Ordered</th>\n",
       "      <th>Price Each</th>\n",
       "      <th>Order Date</th>\n",
       "      <th>Purchase Address</th>\n",
       "      <th>Total Sales</th>\n",
       "      <th>Month</th>\n",
       "      <th>City</th>\n",
       "      <th>Hour</th>\n",
       "    </tr>\n",
       "  </thead>\n",
       "  <tbody>\n",
       "    <tr>\n",
       "      <th>0</th>\n",
       "      <td>176558</td>\n",
       "      <td>USB-C Charging Cable</td>\n",
       "      <td>2</td>\n",
       "      <td>11.95</td>\n",
       "      <td>2019-04-19 08:46:00</td>\n",
       "      <td>917 1st St, Dallas, TX 75001</td>\n",
       "      <td>23.90</td>\n",
       "      <td>April</td>\n",
       "      <td>Dallas TX</td>\n",
       "      <td>08:46</td>\n",
       "    </tr>\n",
       "    <tr>\n",
       "      <th>2</th>\n",
       "      <td>176559</td>\n",
       "      <td>Bose SoundSport Headphones</td>\n",
       "      <td>1</td>\n",
       "      <td>99.99</td>\n",
       "      <td>2019-04-07 22:30:00</td>\n",
       "      <td>682 Chestnut St, Boston, MA 02215</td>\n",
       "      <td>99.99</td>\n",
       "      <td>April</td>\n",
       "      <td>Boston MA</td>\n",
       "      <td>22:30</td>\n",
       "    </tr>\n",
       "    <tr>\n",
       "      <th>3</th>\n",
       "      <td>176560</td>\n",
       "      <td>Google Phone</td>\n",
       "      <td>1</td>\n",
       "      <td>600.00</td>\n",
       "      <td>2019-04-12 14:38:00</td>\n",
       "      <td>669 Spruce St, Los Angeles, CA 90001</td>\n",
       "      <td>600.00</td>\n",
       "      <td>April</td>\n",
       "      <td>Los Angeles CA</td>\n",
       "      <td>14:38</td>\n",
       "    </tr>\n",
       "    <tr>\n",
       "      <th>4</th>\n",
       "      <td>176560</td>\n",
       "      <td>Wired Headphones</td>\n",
       "      <td>1</td>\n",
       "      <td>11.99</td>\n",
       "      <td>2019-04-12 14:38:00</td>\n",
       "      <td>669 Spruce St, Los Angeles, CA 90001</td>\n",
       "      <td>11.99</td>\n",
       "      <td>April</td>\n",
       "      <td>Los Angeles CA</td>\n",
       "      <td>14:38</td>\n",
       "    </tr>\n",
       "    <tr>\n",
       "      <th>5</th>\n",
       "      <td>176561</td>\n",
       "      <td>Wired Headphones</td>\n",
       "      <td>1</td>\n",
       "      <td>11.99</td>\n",
       "      <td>2019-04-30 09:27:00</td>\n",
       "      <td>333 8th St, Los Angeles, CA 90001</td>\n",
       "      <td>11.99</td>\n",
       "      <td>April</td>\n",
       "      <td>Los Angeles CA</td>\n",
       "      <td>09:27</td>\n",
       "    </tr>\n",
       "  </tbody>\n",
       "</table>\n",
       "</div>"
      ],
      "text/plain": [
       "  Order ID                     Product  Quantity Ordered  Price Each  \\\n",
       "0   176558        USB-C Charging Cable                 2       11.95   \n",
       "2   176559  Bose SoundSport Headphones                 1       99.99   \n",
       "3   176560                Google Phone                 1      600.00   \n",
       "4   176560            Wired Headphones                 1       11.99   \n",
       "5   176561            Wired Headphones                 1       11.99   \n",
       "\n",
       "           Order Date                      Purchase Address  Total Sales  \\\n",
       "0 2019-04-19 08:46:00          917 1st St, Dallas, TX 75001        23.90   \n",
       "2 2019-04-07 22:30:00     682 Chestnut St, Boston, MA 02215        99.99   \n",
       "3 2019-04-12 14:38:00  669 Spruce St, Los Angeles, CA 90001       600.00   \n",
       "4 2019-04-12 14:38:00  669 Spruce St, Los Angeles, CA 90001        11.99   \n",
       "5 2019-04-30 09:27:00     333 8th St, Los Angeles, CA 90001        11.99   \n",
       "\n",
       "   Month             City   Hour  \n",
       "0  April        Dallas TX  08:46  \n",
       "2  April        Boston MA  22:30  \n",
       "3  April   Los Angeles CA  14:38  \n",
       "4  April   Los Angeles CA  14:38  \n",
       "5  April   Los Angeles CA  09:27  "
      ]
     },
     "execution_count": 42,
     "metadata": {},
     "output_type": "execute_result"
    }
   ],
   "source": [
    "df_year_t.head()"
   ]
  },
  {
   "cell_type": "code",
   "execution_count": 43,
   "id": "5b0703e1",
   "metadata": {},
   "outputs": [
    {
     "data": {
      "text/plain": [
       "Product\n",
       "AAA Batteries (4-pack)        31017\n",
       "AA Batteries (4-pack)         27635\n",
       "USB-C Charging Cable          23975\n",
       "Lightning Charging Cable      23217\n",
       "Wired Headphones              20557\n",
       "Apple Airpods Headphones      15661\n",
       "Bose SoundSport Headphones    13457\n",
       "27in FHD Monitor               7550\n",
       "iPhone                         6849\n",
       "27in 4K Gaming Monitor         6244\n",
       "34in Ultrawide Monitor         6199\n",
       "Google Phone                   5532\n",
       "Flatscreen TV                  4819\n",
       "Macbook Pro Laptop             4728\n",
       "ThinkPad Laptop                4130\n",
       "20in Monitor                   4129\n",
       "Vareebadd Phone                2068\n",
       "LG Washing Machine              666\n",
       "LG Dryer                        646\n",
       "Name: Quantity Ordered, dtype: int64"
      ]
     },
     "execution_count": 43,
     "metadata": {},
     "output_type": "execute_result"
    }
   ],
   "source": [
    "df_year_t.groupby(\"Product\")[\"Quantity Ordered\"].sum().sort_values(ascending=False)"
   ]
  },
  {
   "cell_type": "markdown",
   "id": "f52c3f13",
   "metadata": {},
   "source": [
    "The battery products seem to be the best selling items. What does that list tell us? Most probably, the products which have the least price are being sold the most. Lets try to find this our by graph:"
   ]
  },
  {
   "cell_type": "code",
   "execution_count": 44,
   "id": "20fea88f",
   "metadata": {},
   "outputs": [
    {
     "name": "stderr",
     "output_type": "stream",
     "text": [
      "<ipython-input-44-8769c228eb2c>:10: UserWarning: FixedFormatter should only be used together with FixedLocator\n",
      "  ax1.set_xticklabels(products,rotation=80)\n"
     ]
    },
    {
     "data": {
      "image/png": "[encoded data removed]",
      "text/plain": [
       "<Figure size 750x450 with 2 Axes>"
      ]
     },
     "metadata": {},
     "output_type": "display_data"
    }
   ],
   "source": [
    "products = [p for p, df in df_year_t.groupby([\"Product\"])] #to get the same order in the dataframe via groupby\n",
    "quantity = df_year_t.groupby([\"Product\"]).sum()[\"Quantity Ordered\"]\n",
    "prices = df_year_t.groupby([\"Product\"]).mean()[\"Price Each\"]\n",
    "\n",
    "\n",
    "fig, ax1 = plt.subplots(figsize=(10,6),dpi=75)\n",
    "\n",
    "ax1.bar(products, quantity, color=\"#d99b16\")\n",
    "ax1.set_ylabel(\"Quantity Ordered\", fontsize=14, color=\"#d99b16\", weight=\"bold\")\n",
    "ax1.set_xticklabels(products,rotation=80)\n",
    "\n",
    "for label in ax1.get_yticklabels():\n",
    "    label.set_color(\"#d99b16\")\n",
    "    \n",
    "ax2 = ax1.twinx() #adding a secondary y axis\n",
    "ax2.plot(products, prices, lw=2, color=\"#425e6e\")\n",
    "ax2.set_ylabel(\"avg Unit Price\", fontsize=14, color=\"#425e6e\", weight=\"bold\")\n",
    "\n",
    "for label in ax2.get_yticklabels():\n",
    "    label.set_color(\"#425e6e\")"
   ]
  },
  {
   "cell_type": "markdown",
   "id": "932d1796",
   "metadata": {},
   "source": [
    "As expected, the products with the lowest unit prices are being sold the most."
   ]
  },
  {
   "cell_type": "code",
   "execution_count": null,
   "id": "863273cf",
   "metadata": {},
   "outputs": [],
   "source": []
  }
 ],
 "metadata": {
  "kernelspec": {
   "display_name": "Python 3",
   "language": "python",
   "name": "python3"
  },
  "language_info": {
   "codemirror_mode": {
    "name": "ipython",
    "version": 3
   },
   "file_extension": ".py",
   "mimetype": "text/x-python",
   "name": "python",
   "nbconvert_exporter": "python",
   "pygments_lexer": "ipython3",
   "version": "3.8.8"
  }
 },
 "nbformat": 4,
 "nbformat_minor": 5
}
